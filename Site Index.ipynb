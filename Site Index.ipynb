{
 "cells": [
  {
   "cell_type": "markdown",
   "metadata": {},
   "source": [
    "# Stuyvesant Competitive Computing Club\n",
    "---  \n",
    "This site contains Stuyvesant Competitive Computing Club's lessons and resources. New lessons will be added to the site, with a recording of each meeting uploaded to the club's [YouTube account](https://www.youtube.com/channel/UC0DBFywQl87JlsFSdvFWbZQ).\n",
    "\n",
    "## Lessons\n",
    "0. [Time and Space Complexity](/lessons/time-space-complexity.html)\n",
    "1. [Data Structures Overview](/lessons/data-structures.html)\n",
    "2. [Sorting Overview](/lessons/sorting.html)  \n",
    "\n",
    "Lesson pages have *runnable* python fragments that can be interacted with. Be sure to follow along with the lesson by tinkering with the associated code fragments, and running them by using *Shift-Enter*.\n",
    "\n",
    "## Members\n",
    "We have over 100 people as part of the club's discord server - where we discuss problems, concepts, and various other topics. Additionally, our leadership this year consists of:  \n",
    "* Amit Prasad (President, 2019-2020)\n",
    "* Arib Chowdhury (President, 2019-2020)\n",
    "* Carlos Hernandez (Vice-President, 2019-2020)\n",
    "* Jeremy Ku-benjet (Vice-President, 2019-2020)\n",
    "\n",
    "## Past Leadership\n",
    "* Ethan Morgan (President, 2019-2020)\n",
    "* Leilei Hao (President, 2019-2020)  \n",
    "  \n",
    "## Contact Us  \n",
    "If you want to contact the leadership, you can email us at [stuyccc@gmail.com](mailto:stuyccc@gmail.com). You can also contact any of the current leadership through their stuy.edu emails. If you want to join the club's community, you can also join our [discord here](https://discord.gg/Wd2FxeE)."
   ]
  }
 ],
 "metadata": {
  "kernelspec": {
   "display_name": "Python 3",
   "language": "python",
   "name": "python3"
  },
  "language_info": {
   "codemirror_mode": {
    "name": "ipython",
    "version": 3
   },
   "file_extension": ".py",
   "mimetype": "text/x-python",
   "name": "python",
   "nbconvert_exporter": "python",
   "pygments_lexer": "ipython3",
   "version": "3.6.9"
  }
 },
 "nbformat": 4,
 "nbformat_minor": 4
}
