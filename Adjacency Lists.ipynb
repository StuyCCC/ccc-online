{
 "cells": [
  {
   "attachments": {
    "image.png": {
     "image/png": "[encoded data removed]"
    }
   },
   "cell_type": "markdown",
   "metadata": {},
   "source": [
    "# Adjacency Lists/Matrices\n",
    "`Lessons[5]`  \n",
    "*This document contains runnable python examples. You may edit and run code blocks by pressing `Shift-Enter`*\n",
    "\n",
    "---\n",
    "\n",
    "In our [lesson on graphs](https://www.stuyccc.com/lessons/graph-intro.html), we learned about how we can visualize graphs by eye. We can't exactly do the same thing when writing programs that interact with graphs. We have to create a *representation* of the graph in our programs so that our algorithm can process the graph. There are dozens of different ways to represent graphs, each having its use in certain problems.  \n",
    "Today we'll be learning about **Adjacency Lists**, a simple way to represent graphs in memory. Most algorithms can effectively utilize adjacency lists. In a graph, each node would be assigned an adjacency list consisting of other nodes it shares an edge with. \n",
    "  \n",
    "![image.png](attachment:image.png)\n",
    "For example, to build the adjacency list for this graph"
   ]
  },
  {
   "cell_type": "code",
   "execution_count": 1,
   "metadata": {},
   "outputs": [],
   "source": [
    "adjacency_list = {1: set([2, 3, 4]),\n",
    "         2: set([1, 4, 5]),\n",
    "         3: set([1, 4]),\n",
    "         4: set([1, 2, 3, 5]),\n",
    "         5: set([2, 4])}\n",
    "print(adjacency_list[1]) #Print all the nodes connected to Node 1"
   ]
  },
  {
   "cell_type": "markdown",
   "metadata": {},
   "source": [
    "If one wanted to represent a weighted version of this graph, they would simply store the weights alongside the nodes.\n",
    "![image-2.png](attachment:image-2.png)  \n",
    "  \n",
    "and it's representation:"
   ]
  },
  {
   "cell_type": "code",
   "execution_count": 2,
   "metadata": {},
   "outputs": [],
   "source": [
    "adjacency_list = {1: set([(2,5), (3,1)]),\n",
    "         2: set([(1,5), (4,6), (5,7)]),\n",
    "         3: set([(1,1), (4,7)]),\n",
    "         4: set([(2,6), (3,7), (5,3)]),\n",
    "         5: set([(2,7), (4,3)])}\n",
    "print(adjacency_list[1]) #Print all the nodes, and the edge weights, connected to Node 1"
   ]
  },
  {
   "cell_type": "markdown",
   "metadata": {},
   "source": [
    "That's all folks! As always, if you have any feedback feel free to contact one of the instructors, or email stuyccc@gmail.com"
   ]
  }
 ],
 "metadata": {
  "kernelspec": {
   "display_name": "Python 3",
   "language": "python",
   "name": "python3"
  },
  "language_info": {
   "codemirror_mode": {
    "name": "ipython",
    "version": 3
   },
   "file_extension": ".py",
   "mimetype": "text/x-python",
   "name": "python",
   "nbconvert_exporter": "python",
   "pygments_lexer": "ipython3",
   "version": "3.6.9"
  }
 },
 "nbformat": 4,
 "nbformat_minor": 4
}
