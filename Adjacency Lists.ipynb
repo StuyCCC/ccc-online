{
 "cells": [
  {
   "attachments": {
    "image.png": {
     "image/png": "[encoded data removed]"
    }
   },
   "cell_type": "markdown",
   "metadata": {},
   "source": [
    "# Adjacency Lists/Matrices\n",
    "`Lessons[5]`  \n",
    "*This document contains runnable python examples. You may edit and run code blocks by pressing `Shift-Enter`*\n",
    "\n",
    "---\n",
    "\n",
    "In our [lesson on graphs](https://www.stuyccc.com/lessons/graph-intro.html), we learned about how we can visualize graphs by eye. We can't exactly do the same thing when writing programs that interact with graphs. We have to create a *representation* of the graph in our programs so that our algorithm can process the graph. There are dozens of different ways to represent graphs, each having its use in certain problems.  \n",
    "Today we'll be learning about **Adjacency Lists**, a simple way to represent graphs in memory. Most algorithms can effectively utilize adjacency lists. In a graph, each node would be assigned an adjacency list consisting of other nodes it shares an edge with. \n",
    "  \n",
    "![image.png](attachment:image.png)\n",
    "For example, to build the adjacency list for this graph"
   ]
  },
  {
   "cell_type": "code",
   "execution_count": 2,
   "metadata": {},
   "outputs": [
    {
     "name": "stdout",
     "output_type": "stream",
     "text": [
      "[2, 3, 4]\n"
     ]
    }
   ],
   "source": [
    "adjacency_list = {1: [2, 3, 4],\n",
    "         2: [1, 4, 5],\n",
    "         3: [1, 4],\n",
    "         4: [1, 2, 3, 5],\n",
    "         5: [2, 4]}\n",
    "print(adjacency_list[1]) #Print all the nodes connected to Node 1"
   ]
  },
  {
   "attachments": {
    "image.png": {
     "image/png": "[encoded data removed]"
    }
   },
   "cell_type": "markdown",
   "metadata": {},
   "source": [
    "If one wanted to represent a weighted version of this graph, they would simply store the weights alongside the nodes.  \n",
    "  \n",
    "![image.png](attachment:image.png)    \n",
    "and it's representation:"
   ]
  },
  {
   "cell_type": "code",
   "execution_count": 3,
   "metadata": {},
   "outputs": [
    {
     "name": "stdout",
     "output_type": "stream",
     "text": [
      "[(2, 5), (3, 1)]\n"
     ]
    }
   ],
   "source": [
    "adjacency_list = {1: [(2,5), (3,1)],\n",
    "         2: [(1,5), (4,6), (5,7)],\n",
    "         3: [(1,1), (4,7)],\n",
    "         4: [(2,6), (3,7), (5,3)],\n",
    "         5: [(2,7), (4,3)]}\n",
    "print(adjacency_list[1]) #Print all the nodes, and the edge weights, connected to Node 1"
   ]
  },
  {
   "cell_type": "markdown",
   "metadata": {},
   "source": [
    "### BFS Sample Problem\n",
    "Problem 1: Piggy Back [Brian Dean, 2014]\n",
    "\n",
    "Bessie and her sister Elsie graze in different fields during the day,\n",
    "and in the evening they both want to walk back to the barn to rest.\n",
    "Being clever bovines, they come up with a plan to minimize the total\n",
    "amount of energy they both spend while walking.\n",
    "\n",
    "Bessie spends B units of energy when walking from a field to an\n",
    "adjacent field, and Elsie spends `E` units of energy when she walks to\n",
    "an adjacent field.  However, if Bessie and Elsie are together in the\n",
    "same field, Bessie can carry Elsie on her shoulders and both can move\n",
    "to an adjacent field while spending only `P` units of energy (where P\n",
    "might be considerably less than `B+E`, the amount Bessie and Elsie would\n",
    "have spent individually walking to the adjacent field).  If `P` is very\n",
    "small, the most energy-efficient solution may involve Bessie and Elsie\n",
    "traveling to a common meeting field, then traveling together piggyback\n",
    "for the rest of the journey to the barn.  Of course, if `P` is large, it\n",
    "may still make the most sense for Bessie and Elsie to travel\n",
    "separately.  On a side note, Bessie and Elsie are both unhappy with\n",
    "the term \"piggyback\", as they don't see why the pigs on the farm\n",
    "should deserve all the credit for this remarkable form of\n",
    "transportation.\n",
    "\n",
    "Given `B`, `E`, and `P`, as well as the layout of the farm, please compute\n",
    "the minimum amount of energy required for Bessie and Elsie to reach\n",
    "the barn.\n",
    "\n",
    "INPUT: (file piggyback.in)\n",
    "\n",
    "The first line of input contains the positive integers `B`, `E`, `P`, `N`, and\n",
    "`M`.  All of these are at most `40,000`.  `B`, `E`, and `P` are described above.\n",
    "`N` is the number of fields in the farm (numbered `1..N`, where `N >= 3`),\n",
    "and `M` is the number of connections between fields.  Bessie and Elsie\n",
    "start in fields `1` and `2`, respectively.  The barn resides in field `N`.\n",
    "\n",
    "The next `M` lines in the input each describe a connection between a\n",
    "pair of different fields, specified by the integer indices of the two\n",
    "fields.  Connections are bi-directional.  It is always possible to\n",
    "travel from field `1` to field `N`, and field `2` to field `N`, along a series\n",
    "of such connections.  \n",
    "  \n",
    "### BFS Sample Problem 2  \n",
    "The second problem is [Leetcode's Open the Lock problem](https://leetcode.com/problems/open-the-lock/)."
   ]
  },
  {
   "cell_type": "markdown",
   "metadata": {},
   "source": [
    "Test Case:\n",
    "```\n",
    "SAMPLE INPUT:\n",
    "\n",
    "4 4 5 8 8\n",
    "1 4\n",
    "2 3\n",
    "3 4\n",
    "4 7\n",
    "2 5\n",
    "5 6\n",
    "6 8\n",
    "7 8\n",
    "```\n",
    "\n",
    "OUTPUT: (file piggyback.out)\n",
    "\n",
    "A single integer specifying the minimum amount of energy Bessie and\n",
    "Elsie collectively need to spend to reach the barn.  In the example\n",
    "shown here, Bessie travels from `1` to `4` and Elsie travels from `2` to `3`\n",
    "to `4`.  Then, they travel together from `4` to `7` to `8`.\n",
    "\n",
    "```\n",
    "SAMPLE OUTPUT:\n",
    "\n",
    "22\n",
    "```\n",
    "\n"
   ]
  },
  {
   "cell_type": "code",
   "execution_count": null,
   "metadata": {},
   "outputs": [],
   "source": [
    "#Solution to USACO problem -- This solution won't run on the website, since it requires file inputs.\n",
    "from collections import deque\n",
    "lines = [line.strip() for line in open(\"piggyback.in\").readlines()],\n",
    "b,e,p,n,m = eval(lines[0].replace(' ',',')),\n",
    "adj={}\n",
    "for m in lines[1:]:\n",
    "    l,r=eval(m.replace(' ',','))\n",
    "    adj[l]=adj.get(l,[])+[r]\n",
    "    adj[r]=adj.get(r,[])+[l]\n",
    "\n",
    "def bfs(source):\n",
    "    vis={}\n",
    "    dist={}\n",
    "    q = deque([source])\n",
    "    vis[source] = True\n",
    "    dist[source] = 0\n",
    "    while q:\n",
    "        s = q.popleft()\n",
    "        for u in adj[s]:\n",
    "            if vis.get(u,False): continue\n",
    "            dist[u] = 1+dist[s]\n",
    "            vis[u] = True\n",
    "            q.append(u)\n",
    "    return dist\n",
    "\n",
    "x_1 = bfs(1)\n",
    "x_2 = bfs(2)\n",
    "x_N = bfs(n)\n",
    "ans=float(\"inf\")\n",
    "for i in range(1,n+1):\n",
    "    ans=min(ans, x_1[i]*b + x_2[i]*e + x_N[i]*p)\n",
    "\n",
    "f=open(\"piggyback.out\",\"x\")\n",
    "f.write(str(ans)+'\\n')\n",
    "f.close()"
   ]
  },
  {
   "cell_type": "code",
   "execution_count": null,
   "metadata": {},
   "outputs": [],
   "source": [
    "#The solution to the Leetcode problem\n",
    "from collections import deque\n",
    "\n",
    "class Solution:\n",
    "    def openLock(self, deadends: List[str], target: str) -> int:\n",
    "        \n",
    "        goal = tuple(int(i) for i in target)\n",
    "        deadends = {tuple(int(i) for i in deadend) for deadend in deadends}\n",
    "        \n",
    "        if (0, 0, 0, 0) in deadends:\n",
    "            return -1\n",
    "        \n",
    "        visited = {(0, 0, 0, 0)}\n",
    "        # current_state, number_move sto get here\n",
    "        queue = deque([((0, 0, 0, 0), 0)])\n",
    "        \n",
    "        def neighbors(current):\n",
    "            \n",
    "            for wheel_number in range(4):\n",
    "                for delta in [-1, 1]:\n",
    "                    new = list(current)\n",
    "                    new[wheel_number] = (new[wheel_number] + delta + 10) % 10\n",
    "                    nei = tuple(new)\n",
    "                    if nei not in deadends:\n",
    "                        yield nei\n",
    "                    \n",
    "        while queue:\n",
    "            node, no_moves = queue.popleft()\n",
    "            if node == goal:\n",
    "                return no_moves\n",
    "            for nei in neighbors(node):\n",
    "                if nei not in visited:\n",
    "                    visited.add(nei)\n",
    "                    queue.append((nei, no_moves + 1))\n",
    "        return -1"
   ]
  },
  {
   "cell_type": "markdown",
   "metadata": {},
   "source": [
    "That's all folks! As always, if you have any feedback feel free to contact one of the instructors, or email stuyccc@gmail.com"
   ]
  }
 ],
 "metadata": {
  "kernelspec": {
   "display_name": "Python 3",
   "language": "python",
   "name": "python3"
  },
  "language_info": {
   "codemirror_mode": {
    "name": "ipython",
    "version": 3
   },
   "file_extension": ".py",
   "mimetype": "text/x-python",
   "name": "python",
   "nbconvert_exporter": "python",
   "pygments_lexer": "ipython3",
   "version": "3.6.9"
  }
 },
 "nbformat": 4,
 "nbformat_minor": 4
}
