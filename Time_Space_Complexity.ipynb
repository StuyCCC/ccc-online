{
 "cells": [
  {
   "cell_type": "markdown",
   "metadata": {},
   "source": [
    "# Time and Space Complexity  \n",
    "`Lessons[0]`  \n",
    "*This document contains runnable python examples. You may edit and run code blocks by pressing `Shift-Enter`*\n",
    "\n",
    "---\n",
    "#### What is Time Complexity?\n",
    "Time complexity is a function describing the amount of time an algorithm takes in terms of the amount of input to the algorithm. Time complexity is usually defined using \"Big O notation\" - The upper and lower bounds of the number of operations taken. In other words, you can use Big-O notation to estimate the upper, lower and average number of operations taken. \n",
    "\n",
    "Big O Notation ignores coeffiecient, and only takes into account the leading term:\n",
    "```\n",
    "O(2N)→O(N)\n",
    "O(N² +3N + 4)→O(N²)\n",
    "```\n",
    "`N` refers to the input size of the algorithm, though sometimes other variables are introduced, depending on the algorithm being measured, and the problem at hand.  \n",
    "  \n",
    "By calculating the time complexity of an algorithm, it is possible to check if an algorithm is efficient enough for the problem. For example, if a problem has an input with size of `N=10⁵`, it is reasonable to assume that the expected algorithm runs in `O(N)` or `O(NlogN)` rather than something much more complex.\n",
    "\n",
    "#### Examples of specific time complexities\n",
    "Constant time is notated as `O(1)`, and does not depend on the size of the input, `N`:"
   ]
  },
  {
   "cell_type": "code",
   "execution_count": 1,
   "metadata": {},
   "outputs": [
    {
     "data": {
      "text/plain": [
       "7"
      ]
     },
     "execution_count": 1,
     "metadata": {},
     "output_type": "execute_result"
    }
   ],
   "source": [
    "x = [3,1,4,7,-1,5,0]\n",
    "x[3] # A Constant time operation, try changing the index and re-running this block to see how you can run it yourself!"
   ]
  },
  {
   "cell_type": "markdown",
   "metadata": {},
   "source": [
    "`O(N)`, or Linear, is when an algorithm scales linearly with input size:"
   ]
  },
  {
   "cell_type": "code",
   "execution_count": 2,
   "metadata": {},
   "outputs": [
    {
     "name": "stdout",
     "output_type": "stream",
     "text": [
      "There is a 7 at index: 3\n"
     ]
    }
   ],
   "source": [
    "#This function runs in linear time to find a value in an input array, and return its index:\n",
    "def linear_search(value_to_find, array):\n",
    "    for i,val in enumerate(array):\n",
    "        if val==value_to_find:\n",
    "            return i\n",
    "    #Value was not found\n",
    "    return -1\n",
    "print('There is a 7 at index:',linear_search(7,x))"
   ]
  },
  {
   "cell_type": "markdown",
   "metadata": {},
   "source": [
    "`O(logN)` is the notation for logarithmic functions. Generally the `log` will have a base of 2. A common example of this is binary search, which works by recursively slicing an array into halves to find a value. If you don't understand the algorithm, don't worry we'll be going over it later."
   ]
  },
  {
   "cell_type": "code",
   "execution_count": 3,
   "metadata": {},
   "outputs": [
    {
     "name": "stdout",
     "output_type": "stream",
     "text": [
      "[-1, 0, 1, 3, 4, 5, 7]\n",
      "There is a 1 at index: 2\n"
     ]
    }
   ],
   "source": [
    "#This function runs in logarithmic time to find a value in a sorted input array, and return its index:\n",
    "def binary_search(value_to_find, array):\n",
    "    mid = 0\n",
    "    start = 0\n",
    "    end = len(array)\n",
    "    while end>=start:\n",
    "        mid = (start+end)//2\n",
    "        if array[mid]==value_to_find:\n",
    "            return mid\n",
    "        if value_to_find < array[mid]:\n",
    "            end = mid - 1\n",
    "        else:\n",
    "            start = mid + 1\n",
    "    #Value was not found\n",
    "    return -1\n",
    "x = sorted(x)\n",
    "print(x)\n",
    "print('There is a 1 at index:',binary_search(1,x))"
   ]
  },
  {
   "cell_type": "markdown",
   "metadata": {},
   "source": [
    "Below we've made a table of the most common Time Complexities:  \n",
    "\n",
    "| Notation | Description |\n",
    "| --- | --- |\n",
    "| `O(1)` | Constant, e.g. Accessing an array |\n",
    "| `O(N)` | Linear, e.g. Iterating through a list |\n",
    "| `O(logN)` | Logarithmic, e.g. Binary Search |\n",
    "| `O(NlogN)` | Linearithmic, e.g. Merge Sort |\n",
    "| `O(N^k)` | Polynomial, e.g. nested `for` loops |\n",
    "| `O(k^N)` | Exponential, e.g. Finding all subsets of a list |\n",
    "| `O(N!)` | Factorial, e.g. All permutations of a string |\n",
    "\n",
    "#### Space Complexity\n",
    "Space complexity is nearly exactly the same as time complexity, in terms of notation. However, space complexity refers to the amount of memory an algorithm uses over the course of execution, rather than the number of operations that are undertaken. For example, a fibonacci sequence only needs the previous two numbers, since this is a constant number, it is `O(N)`. However, a sort operation needs `O(N)` memory, or more, to store the array.  \n",
    "\n",
    "That's it for this lesson. As always, if you have any feedback feel free to contact one of the instructors, or email stuyccc@gmail.com"
   ]
  }
 ],
 "metadata": {
  "kernelspec": {
   "display_name": "Python 3",
   "language": "python",
   "name": "python3"
  },
  "language_info": {
   "codemirror_mode": {
    "name": "ipython",
    "version": 3
   },
   "file_extension": ".py",
   "mimetype": "text/x-python",
   "name": "python",
   "nbconvert_exporter": "python",
   "pygments_lexer": "ipython3",
   "version": "3.6.9"
  }
 },
 "nbformat": 4,
 "nbformat_minor": 4
}
