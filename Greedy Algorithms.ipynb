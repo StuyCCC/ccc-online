{
 "cells": [
  {
   "cell_type": "markdown",
   "metadata": {},
   "source": [
    "# Greedy Algorithms - If Instant Gratification Worked\n",
    "`Lessons[6]`  \n",
    "*This document contains runnable python examples. You may edit and run code blocks by pressing `Shift-Enter`*\n",
    "\n",
    "---\n",
    "\n",
    "Today we'll be learning about about **Greedy Algorithms**. Greedy algorithms find solutions to problems by always making the optimal choice at the moment. While they may not always find the optimal solution, but for many problems the correct greedy strategy will result in the optimal solution. Because they choose optimal choices, they are generally considered to be efficient algorithms for most problems.  \n",
    "\n",
    "Optimal Choice at the moment means: If you can choose between two piles of money, always choose the bigger one (even if it leads to you getting less money later on - we only care about the current moment)  \n",
    "\n",
    "### The Activity Selection Problem\n",
    "One problem with a greedy-algorithm based solution is the activity selection problem. Given a set `S` of tasks, and the start/end times of each task, find the maximum number of tasks that can be done if only one task can be undertaken at once.\n",
    "```\n",
    "# Sample Input\n",
    "S = [(1,3),(2,5),(3,9),(6,8),(0,8)] # Task 1 has start time of 1, end time of 3, and so on.\n",
    "# Sample Output\n",
    "# >> [(2,5), (6,8)]\n",
    "```  \n",
    "Make sure your strategy doesn't fail on cases like:\n",
    "```\n",
    "# Selecting just the shortest task would only allow you one task.\n",
    "S = [(1,5),(4,6),(5,10)]\n",
    "\n",
    "# Selecting the earliest task could result in you selecting a very long early task.\n",
    "S = [(1,10),(3,6),(7,9)]\n",
    "```\n",
    "\n",
    "### The Coin Problem\n",
    "Another seemingly simple example where we can use a greedy algorithm is known as the *coin problem*. Consider a situation where we have to figure out the least number of coins to total a sum of money `n`.\n",
    "For example:\n",
    "```\n",
    "# Sample Input\n",
    "coins = [1, 2, 5, 10, 20, 50, 100, 200]\n",
    "n = 520\n",
    "# Sample Output\n",
    "solve(coin,n)\n",
    "# >> [200,200,100,20]\n",
    "```\n",
    "The solution would be using 4 coins: `200 + 200 + 100 + 20`\n",
    "\n",
    "**How would we use a greedy algorithm to find the solution?**  \n",
    "The greedy algorithm strategy for this problem would be to repeatedly select the largest coin that wouldn't make the total exceed `n`.  But will this strategy find the optimal solution in every problem? Consider this case:\n",
    "```\n",
    "# Sample Input\n",
    "coins = [1,3,4,5]\n",
    "n = 7\n",
    "# Greedy Output\n",
    "solve(coin,n)\n",
    "# >> [5,1,1]\n",
    "# Optimal Solution\n",
    "# >> [4,3]\n",
    "```"
   ]
  },
  {
   "cell_type": "code",
   "execution_count": 1,
   "metadata": {},
   "outputs": [
    {
     "name": "stdout",
     "output_type": "stream",
     "text": [
      "[200, 200, 100, 20]\n"
     ]
    }
   ],
   "source": [
    "def solve(coins, n):\n",
    "    coins = sorted(coins)[::-1] #Sort the coins into descending order\n",
    "    total = 0\n",
    "    c = []\n",
    "    while total<n:\n",
    "        for i in coins:\n",
    "            if total+i<=n:\n",
    "                total+=i\n",
    "                c.append(i)\n",
    "                break\n",
    "    return c\n",
    "coins = [1, 2, 5, 10, 20, 50, 100, 200]\n",
    "n = 520\n",
    "print(solve(coins,n))"
   ]
  },
  {
   "cell_type": "markdown",
   "metadata": {},
   "source": [
    "### More Problems\n",
    "You can find many more problems at [this link on codeforces](https://a2oj.com/category?ID=56). The problems get increasingly difficult.\n",
    "\n",
    "That's all folks! As always, if you have any feedback feel free to contact one of the instructors, or email stuyccc@gmail.com"
   ]
  }
 ],
 "metadata": {
  "kernelspec": {
   "display_name": "Python 3",
   "language": "python",
   "name": "python3"
  },
  "language_info": {
   "codemirror_mode": {
    "name": "ipython",
    "version": 3
   },
   "file_extension": ".py",
   "mimetype": "text/x-python",
   "name": "python",
   "nbconvert_exporter": "python",
   "pygments_lexer": "ipython3",
   "version": "3.6.9"
  }
 },
 "nbformat": 4,
 "nbformat_minor": 4
}
